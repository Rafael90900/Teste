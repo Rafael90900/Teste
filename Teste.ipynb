{
  "nbformat": 4,
  "nbformat_minor": 0,
  "metadata": {
    "colab": {
      "provenance": [],
      "authorship_tag": "ABX9TyONotED/MAvVhdT3M6Zh51K",
      "include_colab_link": true
    },
    "kernelspec": {
      "name": "python3",
      "display_name": "Python 3"
    },
    "language_info": {
      "name": "python"
    }
  },
  "cells": [
    {
      "cell_type": "markdown",
      "metadata": {
        "id": "view-in-github",
        "colab_type": "text"
      },
      "source": [
        "<a href=\"https://colab.research.google.com/github/Rafael90900/Teste/blob/main/Teste.ipynb\" target=\"_parent\"><img src=\"https://colab.research.google.com/assets/colab-badge.svg\" alt=\"Open In Colab\"/></a>"
      ]
    },
    {
      "cell_type": "code",
      "execution_count": null,
      "metadata": {
        "id": "5nGsCDOeXLQR"
      },
      "outputs": [],
      "source": [
        "def funcaoSemNome(nome, anoNascim):\n",
        "  idade = 2023 - anoNascim\n",
        "  print(nome, idade)"
      ]
    },
    {
      "cell_type": "code",
      "source": [
        "funcaoSemNome('Rafael', 2005)"
      ],
      "metadata": {
        "colab": {
          "base_uri": "https://localhost:8080/"
        },
        "id": "hE_kypbTX4cb",
        "outputId": "12a9dbee-cc18-480d-ea0f-01b2397d5ec3"
      },
      "execution_count": null,
      "outputs": [
        {
          "output_type": "stream",
          "name": "stdout",
          "text": [
            "Rafael 18\n"
          ]
        }
      ]
    },
    {
      "cell_type": "code",
      "source": [
        "#Soma\n",
        "def soma(a, b):\n",
        "  return a + b\n",
        "#Subtração\n",
        "def subtracao(a, b):\n",
        "  return a - b\n",
        "#Multiplicação\n",
        "def vezes(a, b):\n",
        "  return a * b\n",
        "#Divisão\n",
        "def divisao(a, b):\n",
        "  return a / b"
      ],
      "metadata": {
        "id": "m2gIi4WZZbFT"
      },
      "execution_count": null,
      "outputs": []
    },
    {
      "cell_type": "code",
      "source": [
        "#soma\n",
        "def soma(a,b):\n",
        "  return a + b\n",
        "  \n",
        "  soma(80,9)"
      ],
      "metadata": {
        "id": "6Y4wdmdRZdhG"
      },
      "execution_count": null,
      "outputs": []
    },
    {
      "cell_type": "code",
      "source": [
        "  soma(80,9)"
      ],
      "metadata": {
        "colab": {
          "base_uri": "https://localhost:8080/"
        },
        "id": "DGLxpPNFZ9zy",
        "outputId": "40c7e578-a896-4736-88a0-02f73403b292"
      },
      "execution_count": null,
      "outputs": [
        {
          "output_type": "execute_result",
          "data": {
            "text/plain": [
              "89"
            ]
          },
          "metadata": {},
          "execution_count": 11
        }
      ]
    },
    {
      "cell_type": "code",
      "source": [
        "subtracao(754,563)"
      ],
      "metadata": {
        "colab": {
          "base_uri": "https://localhost:8080/"
        },
        "id": "rQmegbYUazll",
        "outputId": "89f95c65-9f8c-4ee8-cf46-e5baa1d7170f"
      },
      "execution_count": null,
      "outputs": [
        {
          "output_type": "execute_result",
          "data": {
            "text/plain": [
              "191"
            ]
          },
          "metadata": {},
          "execution_count": 21
        }
      ]
    },
    {
      "cell_type": "code",
      "source": [
        "#Multiplicação\n",
        "def vezes(a, b):\n",
        "  return a * b\n",
        "vezes(589,397)"
      ],
      "metadata": {
        "id": "NqnEdKrEbFJn",
        "colab": {
          "base_uri": "https://localhost:8080/"
        },
        "outputId": "bce987ca-772b-4863-972b-1c93d0d1158b"
      },
      "execution_count": null,
      "outputs": [
        {
          "output_type": "execute_result",
          "data": {
            "text/plain": [
              "233833"
            ]
          },
          "metadata": {},
          "execution_count": 33
        }
      ]
    },
    {
      "cell_type": "code",
      "source": [
        "#Divisão\n",
        "def divisao(a, b):\n",
        "  return a / b"
      ],
      "metadata": {
        "id": "BqG6G18Ew8vX"
      },
      "execution_count": null,
      "outputs": []
    },
    {
      "cell_type": "code",
      "source": [
        "divisao(70,12)"
      ],
      "metadata": {
        "colab": {
          "base_uri": "https://localhost:8080/"
        },
        "id": "KTSbPzKVxRoN",
        "outputId": "f5ce2aad-97db-465a-e288-d707a7d9c658"
      },
      "execution_count": null,
      "outputs": [
        {
          "output_type": "execute_result",
          "data": {
            "text/plain": [
              "5.833333333333333"
            ]
          },
          "metadata": {},
          "execution_count": 6
        }
      ]
    },
    {
      "cell_type": "code",
      "source": [
        "def somaNotas(*notas):\n",
        "  soma = 0\n",
        "  for n in notas:\n",
        "    soma += n\n",
        "  print(soma / len(notas))"
      ],
      "metadata": {
        "id": "wXnMRr3Nx5Iz"
      },
      "execution_count": null,
      "outputs": []
    },
    {
      "cell_type": "code",
      "source": [
        "somaNotas(9.5 ,8, 10)"
      ],
      "metadata": {
        "colab": {
          "base_uri": "https://localhost:8080/"
        },
        "id": "11WajiZEyql-",
        "outputId": "fd80e43e-71b4-4bd1-e3f8-2d1a09395942"
      },
      "execution_count": null,
      "outputs": [
        {
          "output_type": "stream",
          "name": "stdout",
          "text": [
            "9.166666666666666\n"
          ]
        }
      ]
    },
    {
      "cell_type": "code",
      "source": [
        "import random\n",
        "\n",
        "num = random.randrange(101)\n",
        "minimo = 0\n",
        "maximo = 100\n",
        "pitaco = int(input(f'Chute um número entre {minimo} e {maximo}: '))\n",
        "cont = 1\n",
        "\n",
        "while(num != pitaco):\n",
        "  if(pitaco > num):\n",
        "    maximo = pitaco\n",
        "  else:\n",
        "    minimo = pitaco\n",
        "  pitaco = int(input(f'Chute um número entre {minimo} e {maximo}: '))\n",
        "  cont+=1\n",
        "\n",
        "print(f'ACERTOU! {cont} tentativas!') \n"
      ],
      "metadata": {
        "colab": {
          "base_uri": "https://localhost:8080/"
        },
        "id": "RlRXXwYO94Ql",
        "outputId": "db17bfcd-56d8-47e5-8b52-cf48a6c051d1"
      },
      "execution_count": null,
      "outputs": [
        {
          "output_type": "stream",
          "name": "stdout",
          "text": [
            "Chute um número entre 0 e 100: 48\n",
            "Chute um número entre 0 e 48: 43\n",
            "Chute um número entre 0 e 43: 32\n",
            "Chute um número entre 0 e 32: 23\n",
            "Chute um número entre 0 e 23: 20\n",
            "Chute um número entre 0 e 20: 13\n",
            "Chute um número entre 13 e 20: 16\n",
            "Chute um número entre 16 e 20: 18\n",
            "Chute um número entre 16 e 18: 17\n",
            "ACERTOU! 9 tentativas!\n"
          ]
        }
      ]
    },
    {
      "cell_type": "code",
      "source": [
        "#Cria uma lista de compras, encerra caso digite 0.\n",
        "comprasLista = []\n",
        "\n",
        "item = input('Digite o item: ')\n",
        "\n",
        "while (item != '0'):\n",
        "  comprasLista.append(item)\n",
        "  item = input('Digite o item: ')\n",
        "\n",
        "comprasLista"
      ],
      "metadata": {
        "colab": {
          "base_uri": "https://localhost:8080/"
        },
        "id": "fWf-2lAl9Ags",
        "outputId": "ca3505ef-eebf-4127-a7c0-a00f791b0fb5"
      },
      "execution_count": null,
      "outputs": [
        {
          "name": "stdout",
          "output_type": "stream",
          "text": [
            "Digite o item: Macarrão\n",
            "Digite o item: Queijo\n",
            "Digite o item: Coca cola\n",
            "Digite o item: Carne\n",
            "Digite o item: 0\n"
          ]
        },
        {
          "output_type": "execute_result",
          "data": {
            "text/plain": [
              "['Macarrão', 'Queijo', 'Coca cola', 'Carne']"
            ]
          },
          "metadata": {},
          "execution_count": 20
        }
      ]
    }
  ]
}